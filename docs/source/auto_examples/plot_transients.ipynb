{
  "cells": [
    {
      "cell_type": "markdown",
      "metadata": {},
      "source": [
        "\n# Transient Lightcurve Examples\n\nThis example demonstrates the generation and visualization of transient lightcurves,\nwhich model events like supernovae, novae, and stellar flares.\n"
      ]
    },
    {
      "cell_type": "code",
      "execution_count": null,
      "metadata": {
        "collapsed": false
      },
      "outputs": [],
      "source": [
        "import matplotlib.pyplot as plt\nimport numpy as np\nfrom hypothesis_lightcurves.generators import transient_lightcurves\nfrom hypothesis_lightcurves.visualization import (\n    create_gallery_plot,\n    plot_lightcurve,\n    plot_with_annotations,\n)"
      ]
    },
    {
      "cell_type": "markdown",
      "metadata": {},
      "source": [
        "## Basic transient event\nGenerate and visualize a basic transient lightcurve.\n\n"
      ]
    },
    {
      "cell_type": "code",
      "execution_count": null,
      "metadata": {
        "collapsed": false
      },
      "outputs": [],
      "source": [
        "np.random.seed(42)\nlc = transient_lightcurves().example()\n\nfig, ax = plt.subplots(figsize=(12, 6))\nplot_with_annotations(lc, ax=ax, color=\"darkred\", marker=\".\", markersize=3)\nax.set_title(\"Transient Event Example\", fontsize=14)\n\n# Mark the peak\npeak_idx = np.argmax(lc.flux)\nax.plot(lc.time[peak_idx], lc.flux[peak_idx], \"r*\", markersize=15, label=\"Peak\")\nax.legend()\n\nplt.show()"
      ]
    },
    {
      "cell_type": "markdown",
      "metadata": {},
      "source": [
        "## Different rise and decay times\nCompare transients with different temporal characteristics.\n\n"
      ]
    },
    {
      "cell_type": "code",
      "execution_count": null,
      "metadata": {
        "collapsed": false
      },
      "outputs": [],
      "source": [
        "fig, axes = plt.subplots(2, 2, figsize=(14, 10))\n\n# Fast rise, fast decay (like a flare)\nlc_flare = transient_lightcurves(\n    min_rise_time=0.5,\n    max_rise_time=0.5,\n    min_decay_time=1.0,\n    max_decay_time=1.0,\n    min_peak_time=10,\n    max_peak_time=10,\n).example()\nplot_lightcurve(\n    lc_flare,\n    ax=axes[0, 0],\n    title=\"Flare-like (Fast rise, Fast decay)\",\n    color=\"orange\",\n    marker=\".\",\n    markersize=2,\n)\n\n# Fast rise, slow decay (like a Type Ia supernova)\nlc_sn_ia = transient_lightcurves(\n    min_rise_time=2.0,\n    max_rise_time=2.0,\n    min_decay_time=15.0,\n    max_decay_time=15.0,\n    min_peak_time=20,\n    max_peak_time=20,\n).example()\nplot_lightcurve(\n    lc_sn_ia,\n    ax=axes[0, 1],\n    title=\"SN Ia-like (Fast rise, Slow decay)\",\n    color=\"blue\",\n    marker=\".\",\n    markersize=2,\n)\n\n# Slow rise, slow decay (like a Type II supernova)\nlc_sn_ii = transient_lightcurves(\n    min_rise_time=5.0,\n    max_rise_time=5.0,\n    min_decay_time=20.0,\n    max_decay_time=20.0,\n    min_peak_time=25,\n    max_peak_time=25,\n).example()\nplot_lightcurve(\n    lc_sn_ii,\n    ax=axes[1, 0],\n    title=\"SN II-like (Slow rise, Slow decay)\",\n    color=\"green\",\n    marker=\".\",\n    markersize=2,\n)\n\n# Slow rise, fast decay (unusual)\nlc_unusual = transient_lightcurves(\n    min_rise_time=8.0,\n    max_rise_time=8.0,\n    min_decay_time=2.0,\n    max_decay_time=2.0,\n    min_peak_time=20,\n    max_peak_time=20,\n).example()\nplot_lightcurve(\n    lc_unusual,\n    ax=axes[1, 1],\n    title=\"Unusual (Slow rise, Fast decay)\",\n    color=\"purple\",\n    marker=\".\",\n    markersize=2,\n)\n\nplt.suptitle(\"Transient Events with Different Timescales\", fontsize=16, y=1.01)\nplt.tight_layout()\nplt.show()"
      ]
    },
    {
      "cell_type": "markdown",
      "metadata": {},
      "source": [
        "## Peak time variation\nShow how peak time affects the lightcurve.\n\n"
      ]
    },
    {
      "cell_type": "code",
      "execution_count": null,
      "metadata": {
        "collapsed": false
      },
      "outputs": [],
      "source": [
        "peak_times = [10, 25, 40, 55]\nfig, axes = plt.subplots(1, len(peak_times), figsize=(16, 4))\n\nfor i, peak_time in enumerate(peak_times):\n    lc = transient_lightcurves(\n        min_peak_time=peak_time,\n        max_peak_time=peak_time,\n        min_rise_time=3.0,\n        max_rise_time=3.0,\n        min_decay_time=10.0,\n        max_decay_time=10.0,\n        min_points=200,\n        max_points=200,\n    ).example()\n\n    plot_lightcurve(lc, ax=axes[i], color=f\"C{i}\", marker=\"\", linewidth=2)\n    axes[i].set_title(f\"Peak at t={peak_time}\", fontsize=12)\n    axes[i].axvline(peak_time, color=\"red\", linestyle=\"--\", alpha=0.5)\n\nplt.suptitle(\"Transients with Different Peak Times\", fontsize=16, y=1.05)\nplt.tight_layout()\nplt.show()"
      ]
    },
    {
      "cell_type": "markdown",
      "metadata": {},
      "source": [
        "## Amplitude variations\nCompare transients with different peak amplitudes.\n\n"
      ]
    },
    {
      "cell_type": "code",
      "execution_count": null,
      "metadata": {
        "collapsed": false
      },
      "outputs": [],
      "source": [
        "fig, ax = plt.subplots(figsize=(12, 7))\n\namplitudes = [100, 500, 1000, 5000]\ncolors = [\"blue\", \"green\", \"orange\", \"red\"]\n\nfor amp, color in zip(amplitudes, colors, strict=False):\n    lc = transient_lightcurves(\n        min_peak_time=25,\n        max_peak_time=25,\n        min_rise_time=3.0,\n        max_rise_time=3.0,\n        min_decay_time=10.0,\n        max_decay_time=10.0,\n        min_points=150,\n        max_points=150,\n    ).example()\n\n    # Scale the flux to desired amplitude\n    baseline = np.min(lc.flux)\n    scale_factor = amp / (np.max(lc.flux) - baseline)\n    scaled_flux = baseline + (lc.flux - baseline) * scale_factor\n\n    ax.plot(\n        lc.time, scaled_flux, color=color, linewidth=2, label=f\"Peak amplitude \u2248 {amp}\", alpha=0.7\n    )\n\nax.set_xlabel(\"Time\", fontsize=12)\nax.set_ylabel(\"Flux\", fontsize=12)\nax.set_title(\"Transients with Different Amplitudes\", fontsize=14)\nax.legend()\nax.grid(True, alpha=0.3)\nplt.show()"
      ]
    },
    {
      "cell_type": "markdown",
      "metadata": {},
      "source": [
        "## Evolution of a transient\nShow the characteristic phases of a transient event.\n\n"
      ]
    },
    {
      "cell_type": "code",
      "execution_count": null,
      "metadata": {
        "collapsed": false
      },
      "outputs": [],
      "source": [
        "lc_evolution = transient_lightcurves(\n    min_peak_time=30,\n    max_peak_time=30,\n    min_rise_time=5.0,\n    max_rise_time=5.0,\n    min_decay_time=15.0,\n    max_decay_time=15.0,\n    min_points=300,\n    max_points=300,\n).example()\n\nfig, ax = plt.subplots(figsize=(14, 7))\n\n# Plot the full lightcurve\nplot_lightcurve(lc_evolution, ax=ax, color=\"black\", marker=\"\", linewidth=2)\n\n# Highlight different phases\npeak_time = lc_evolution.metadata[\"peak_time\"]\nrise_time = lc_evolution.metadata[\"rise_time\"]\ndecay_time = lc_evolution.metadata[\"decay_time\"]\n\n# Pre-explosion\nax.axvspan(0, peak_time - 3 * rise_time, alpha=0.2, color=\"gray\", label=\"Pre-explosion\")\n\n# Rise phase\nax.axvspan(peak_time - 3 * rise_time, peak_time, alpha=0.2, color=\"blue\", label=\"Rise phase\")\n\n# Peak\npeak_idx = np.argmax(lc_evolution.flux)\nax.plot(lc_evolution.time[peak_idx], lc_evolution.flux[peak_idx], \"r*\", markersize=20, label=\"Peak\")\n\n# Decay phase\nax.axvspan(peak_time, peak_time + 3 * decay_time, alpha=0.2, color=\"orange\", label=\"Decay phase\")\n\n# Late time\nax.axvspan(\n    peak_time + 3 * decay_time, lc_evolution.time[-1], alpha=0.2, color=\"purple\", label=\"Late time\"\n)\n\nax.set_xlabel(\"Time\", fontsize=12)\nax.set_ylabel(\"Flux\", fontsize=12)\nax.set_title(\"Phases of a Transient Event\", fontsize=14)\nax.legend(loc=\"upper right\")\nax.grid(True, alpha=0.3)\n\nplt.show()"
      ]
    },
    {
      "cell_type": "markdown",
      "metadata": {},
      "source": [
        "## Gallery of transient events\nShowcase the diversity of transient lightcurves.\n\n"
      ]
    },
    {
      "cell_type": "code",
      "execution_count": null,
      "metadata": {
        "collapsed": false
      },
      "outputs": [],
      "source": [
        "fig = create_gallery_plot(\n    n_examples=9,\n    generator_func=transient_lightcurves,\n    title=\"Gallery of Transient Events\",\n    figsize=(15, 10),\n    seed=789,\n)\nplt.show()"
      ]
    },
    {
      "cell_type": "markdown",
      "metadata": {},
      "source": [
        "## Comparison with noise\nShow how noise affects transient detection.\n\n"
      ]
    },
    {
      "cell_type": "code",
      "execution_count": null,
      "metadata": {
        "collapsed": false
      },
      "outputs": [],
      "source": [
        "fig, axes = plt.subplots(3, 1, figsize=(12, 10), sharex=True)\n\n# Generate base transient\nnp.random.seed(100)\nbase_params = dict(\n    min_peak_time=25,\n    max_peak_time=25,\n    min_rise_time=3.0,\n    max_rise_time=3.0,\n    min_decay_time=12.0,\n    max_decay_time=12.0,\n    min_points=200,\n    max_points=200,\n)\n\n# Clean transient\nlc_clean = transient_lightcurves(**base_params).example()\n# Remove noise for clean version\nlc_clean.flux = lc_clean.flux - np.random.normal(0, lc_clean.flux_err[0], len(lc_clean.flux))\nlc_clean.flux_err = None\n\nplot_lightcurve(lc_clean, ax=axes[0], title=\"Clean Transient\", color=\"navy\", marker=\"\", linewidth=2)\n\n# Low noise\nlc_low_noise = transient_lightcurves(**base_params).example()\nplot_lightcurve(\n    lc_low_noise,\n    ax=axes[1],\n    title=\"Low Noise\",\n    color=\"darkgreen\",\n    marker=\".\",\n    markersize=2,\n    linestyle=\"\",\n)\n\n# High noise (add extra noise)\nlc_high_noise = transient_lightcurves(**base_params).example()\nextra_noise = np.random.normal(0, np.std(lc_high_noise.flux) * 0.2, len(lc_high_noise.flux))\nlc_high_noise.flux += extra_noise\n\nplot_lightcurve(\n    lc_high_noise,\n    ax=axes[2],\n    title=\"High Noise\",\n    color=\"darkred\",\n    marker=\".\",\n    markersize=2,\n    linestyle=\"\",\n)\n\nplt.suptitle(\"Impact of Noise on Transient Detection\", fontsize=16, y=1.01)\nplt.tight_layout()\nplt.show()"
      ]
    }
  ],
  "metadata": {
    "kernelspec": {
      "display_name": "Python 3",
      "language": "python",
      "name": "python3"
    },
    "language_info": {
      "codemirror_mode": {
        "name": "ipython",
        "version": 3
      },
      "file_extension": ".py",
      "mimetype": "text/x-python",
      "name": "python",
      "nbconvert_exporter": "python",
      "pygments_lexer": "ipython3",
      "version": "3.11.13"
    }
  },
  "nbformat": 4,
  "nbformat_minor": 0
}
