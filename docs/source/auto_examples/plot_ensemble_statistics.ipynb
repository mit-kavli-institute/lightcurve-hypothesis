{
  "cells": [
    {
      "cell_type": "markdown",
      "metadata": {},
      "source": [
        "\n# Ensemble Statistics\n\nThis example demonstrates statistical analysis of ensemble lightcurve generation,\nshowing distributions and properties across many generated examples.\n"
      ]
    },
    {
      "cell_type": "code",
      "execution_count": null,
      "metadata": {
        "collapsed": false
      },
      "outputs": [],
      "source": [
        "import matplotlib.pyplot as plt\nimport numpy as np\n\nfrom hypothesis_lightcurves.generators import (\n    lightcurves,\n    periodic_lightcurves,\n    transient_lightcurves,\n)\nfrom hypothesis_lightcurves.utils import calculate_periodogram\nfrom hypothesis_lightcurves.visualization import plot_lightcurve"
      ]
    },
    {
      "cell_type": "markdown",
      "metadata": {},
      "source": [
        "## Statistical properties of random lightcurves\nAnalyze the distribution of properties across many random lightcurves.\n\n"
      ]
    },
    {
      "cell_type": "code",
      "execution_count": null,
      "metadata": {
        "collapsed": false
      },
      "outputs": [],
      "source": [
        "np.random.seed(42)\nn_samples = 100\n\n# Generate ensemble\nensemble = [lightcurves(min_points=100, max_points=500).example() \n            for _ in range(n_samples)]\n\n# Extract properties\nn_points = [lc.n_points for lc in ensemble]\ndurations = [lc.duration for lc in ensemble]\nmean_fluxes = [lc.mean_flux for lc in ensemble]\nstd_fluxes = [lc.std_flux for lc in ensemble]\n\nfig, axes = plt.subplots(2, 2, figsize=(12, 10))\n\n# Number of points distribution\naxes[0, 0].hist(n_points, bins=20, color='blue', alpha=0.7, edgecolor='black')\naxes[0, 0].set_xlabel('Number of Points')\naxes[0, 0].set_ylabel('Count')\naxes[0, 0].set_title(f'Point Count Distribution (n={n_samples})')\naxes[0, 0].axvline(np.mean(n_points), color='red', linestyle='--', \n                   label=f'Mean: {np.mean(n_points):.0f}')\naxes[0, 0].legend()\n\n# Duration distribution\naxes[0, 1].hist(durations, bins=20, color='green', alpha=0.7, edgecolor='black')\naxes[0, 1].set_xlabel('Duration')\naxes[0, 1].set_ylabel('Count')\naxes[0, 1].set_title('Duration Distribution')\naxes[0, 1].axvline(np.mean(durations), color='red', linestyle='--',\n                   label=f'Mean: {np.mean(durations):.1f}')\naxes[0, 1].legend()\n\n# Mean flux distribution\naxes[1, 0].hist(mean_fluxes, bins=20, color='orange', alpha=0.7, edgecolor='black')\naxes[1, 0].set_xlabel('Mean Flux')\naxes[1, 0].set_ylabel('Count')\naxes[1, 0].set_title('Mean Flux Distribution')\naxes[1, 0].axvline(np.mean(mean_fluxes), color='red', linestyle='--',\n                   label=f'Mean: {np.mean(mean_fluxes):.1f}')\naxes[1, 0].legend()\n\n# Standard deviation distribution\naxes[1, 1].hist(std_fluxes, bins=20, color='purple', alpha=0.7, edgecolor='black')\naxes[1, 1].set_xlabel('Flux Std Dev')\naxes[1, 1].set_ylabel('Count')\naxes[1, 1].set_title('Flux Standard Deviation Distribution')\naxes[1, 1].axvline(np.mean(std_fluxes), color='red', linestyle='--',\n                   label=f'Mean: {np.mean(std_fluxes):.1f}')\naxes[1, 1].legend()\n\nplt.suptitle(f'Ensemble Statistics of {n_samples} Random Lightcurves', fontsize=16, y=1.02)\nplt.tight_layout()\nplt.show()"
      ]
    },
    {
      "cell_type": "markdown",
      "metadata": {},
      "source": [
        "## Period recovery statistics\nTest how well we can recover periods from generated periodic lightcurves.\n\n"
      ]
    },
    {
      "cell_type": "code",
      "execution_count": null,
      "metadata": {
        "collapsed": false
      },
      "outputs": [],
      "source": [
        "n_tests = 50\ntrue_periods = []\ndetected_periods = []\nrecovery_errors = []\n\nfor _ in range(n_tests):\n    # Generate periodic lightcurve\n    lc = periodic_lightcurves(\n        min_period=1.0,\n        max_period=5.0,\n        min_amplitude=0.1,\n        max_amplitude=0.3,\n        with_noise=True,\n        min_points=200,\n        max_points=400\n    ).example()\n    \n    true_period = lc.metadata['period']\n    true_periods.append(true_period)\n    \n    # Try to recover the period\n    test_periods = np.linspace(0.5, 10.0, 1000)\n    periods, power = calculate_periodogram(lc, test_periods)\n    detected_period = periods[np.argmax(power)]\n    detected_periods.append(detected_period)\n    \n    # Calculate relative error\n    error = abs(detected_period - true_period) / true_period * 100\n    recovery_errors.append(error)\n\nfig, axes = plt.subplots(1, 3, figsize=(15, 5))\n\n# True vs Detected periods\naxes[0].scatter(true_periods, detected_periods, alpha=0.6, s=30)\naxes[0].plot([0, 6], [0, 6], 'r--', label='Perfect Recovery')\naxes[0].set_xlabel('True Period')\naxes[0].set_ylabel('Detected Period')\naxes[0].set_title(f'Period Recovery (n={n_tests})')\naxes[0].legend()\naxes[0].grid(True, alpha=0.3)\n\n# Error distribution\naxes[1].hist(recovery_errors, bins=15, color='green', alpha=0.7, edgecolor='black')\naxes[1].set_xlabel('Relative Error (%)')\naxes[1].set_ylabel('Count')\naxes[1].set_title('Period Recovery Error Distribution')\naxes[1].axvline(np.median(recovery_errors), color='red', linestyle='--',\n               label=f'Median: {np.median(recovery_errors):.1f}%')\naxes[1].legend()\n\n# Error vs True Period\naxes[2].scatter(true_periods, recovery_errors, alpha=0.6, s=30, color='purple')\naxes[2].set_xlabel('True Period')\naxes[2].set_ylabel('Relative Error (%)')\naxes[2].set_title('Recovery Error vs True Period')\naxes[2].axhline(5, color='red', linestyle='--', alpha=0.5, label='5% threshold')\naxes[2].legend()\naxes[2].grid(True, alpha=0.3)\n\nplt.suptitle(f'Period Recovery Statistics from {n_tests} Periodic Lightcurves', \n             fontsize=16, y=1.02)\nplt.tight_layout()\nplt.show()\n\nprint(f\"Recovery success rate (< 5% error): {sum(e < 5 for e in recovery_errors)/n_tests*100:.1f}%\")\nprint(f\"Mean recovery error: {np.mean(recovery_errors):.2f}%\")\nprint(f\"Median recovery error: {np.median(recovery_errors):.2f}%\")"
      ]
    },
    {
      "cell_type": "markdown",
      "metadata": {},
      "source": [
        "## Transient peak detection accuracy\nAnalyze how accurately we can detect transient peaks.\n\n"
      ]
    },
    {
      "cell_type": "code",
      "execution_count": null,
      "metadata": {
        "collapsed": false
      },
      "outputs": [],
      "source": [
        "n_transients = 50\npeak_time_errors = []\npeak_flux_errors = []\n\nfor _ in range(n_transients):\n    lc = transient_lightcurves(\n        min_peak_time=20,\n        max_peak_time=60,\n        min_rise_time=1.0,\n        max_rise_time=5.0,\n        min_decay_time=5.0,\n        max_decay_time=20.0\n    ).example()\n    \n    true_peak_time = lc.metadata['peak_time']\n    true_peak_flux = lc.metadata['peak_flux']\n    \n    # Detect peak\n    peak_idx = np.argmax(lc.flux)\n    detected_peak_time = lc.time[peak_idx]\n    detected_peak_flux = lc.flux[peak_idx] - np.min(lc.flux)\n    \n    # Calculate errors\n    time_error = abs(detected_peak_time - true_peak_time)\n    flux_error = abs(detected_peak_flux - true_peak_flux) / true_peak_flux * 100\n    \n    peak_time_errors.append(time_error)\n    peak_flux_errors.append(flux_error)\n\nfig, axes = plt.subplots(1, 2, figsize=(12, 5))\n\n# Peak time error distribution\naxes[0].hist(peak_time_errors, bins=15, color='blue', alpha=0.7, edgecolor='black')\naxes[0].set_xlabel('Peak Time Error')\naxes[0].set_ylabel('Count')\naxes[0].set_title(f'Peak Time Detection Error (n={n_transients})')\naxes[0].axvline(np.median(peak_time_errors), color='red', linestyle='--',\n                label=f'Median: {np.median(peak_time_errors):.2f}')\naxes[0].legend()\n\n# Peak flux error distribution\naxes[1].hist(peak_flux_errors, bins=15, color='orange', alpha=0.7, edgecolor='black')\naxes[1].set_xlabel('Peak Flux Error (%)')\naxes[1].set_ylabel('Count')\naxes[1].set_title('Peak Flux Detection Error')\naxes[1].axvline(np.median(peak_flux_errors), color='red', linestyle='--',\n                label=f'Median: {np.median(peak_flux_errors):.1f}%')\naxes[1].legend()\n\nplt.suptitle(f'Transient Peak Detection Statistics (n={n_transients})', fontsize=16, y=1.02)\nplt.tight_layout()\nplt.show()"
      ]
    },
    {
      "cell_type": "markdown",
      "metadata": {},
      "source": [
        "## Ensemble visualization\nVisualize multiple examples from each generator type.\n\n"
      ]
    },
    {
      "cell_type": "code",
      "execution_count": null,
      "metadata": {
        "collapsed": false
      },
      "outputs": [],
      "source": [
        "fig, axes = plt.subplots(3, 3, figsize=(15, 12))\n\n# Row 1: Random lightcurves\nfor i in range(3):\n    lc = lightcurves(with_errors=True).example()\n    plot_lightcurve(lc, ax=axes[0, i], color=f'C{i}', marker='', linewidth=1)\n    axes[0, i].set_title(f'Random {i+1}')\n\n# Row 2: Periodic lightcurves\nfor i in range(3):\n    lc = periodic_lightcurves(\n        min_period=1.0 + i,\n        max_period=1.0 + i,\n        with_noise=True\n    ).example()\n    plot_lightcurve(lc, ax=axes[1, i], color=f'C{i+3}', marker='', linewidth=1)\n    axes[1, i].set_title(f'Periodic (P\u2248{1.0+i:.1f})')\n\n# Row 3: Transient lightcurves\nfor i in range(3):\n    lc = transient_lightcurves(\n        min_rise_time=1.0 + i*2,\n        max_rise_time=1.0 + i*2\n    ).example()\n    plot_lightcurve(lc, ax=axes[2, i], color=f'C{i+6}', marker='.', markersize=2, linestyle='')\n    axes[2, i].set_title(f'Transient (\u03c4_r\u2248{1.0+i*2:.1f})')\n\nplt.suptitle('Ensemble Examples from Different Generators', fontsize=16, y=1.01)\nplt.tight_layout()\nplt.show()"
      ]
    },
    {
      "cell_type": "markdown",
      "metadata": {},
      "source": [
        "## Signal-to-noise ratio analysis\nAnalyze SNR for periodic signals with different noise levels.\n\n"
      ]
    },
    {
      "cell_type": "code",
      "execution_count": null,
      "metadata": {
        "collapsed": false
      },
      "outputs": [],
      "source": [
        "periods_test = 2.5\namplitudes = [0.05, 0.1, 0.2, 0.5]\nn_realizations = 20\n\nfig, axes = plt.subplots(2, 2, figsize=(12, 10))\n\nfor idx, amplitude in enumerate(amplitudes):\n    row = idx // 2\n    col = idx % 2\n    ax = axes[row, col]\n    \n    snr_values = []\n    \n    for _ in range(n_realizations):\n        lc = periodic_lightcurves(\n            min_period=periods_test,\n            max_period=periods_test,\n            min_amplitude=amplitude,\n            max_amplitude=amplitude,\n            with_noise=True,\n            min_points=300,\n            max_points=300\n        ).example()\n        \n        # Estimate SNR\n        if lc.flux_err is not None:\n            noise_level = np.mean(lc.flux_err)\n        else:\n            # Estimate noise from high-frequency components\n            noise_level = np.std(np.diff(lc.flux)) / np.sqrt(2)\n        \n        signal_amplitude = amplitude\n        snr = signal_amplitude / noise_level if noise_level > 0 else np.inf\n        snr_values.append(snr)\n    \n    # Plot one example\n    plot_lightcurve(lc, ax=ax, color='gray', alpha=0.5, marker='.', markersize=1, linestyle='')\n    \n    # Add SNR info\n    mean_snr = np.mean(snr_values)\n    ax.set_title(f'Amplitude={amplitude:.2f}, Mean SNR={mean_snr:.1f}')\n    \n    # Add text box with statistics\n    stats_text = f'SNR: {mean_snr:.1f} \u00b1 {np.std(snr_values):.1f}'\n    ax.text(0.02, 0.98, stats_text, transform=ax.transAxes, fontsize=10,\n            verticalalignment='top',\n            bbox=dict(boxstyle='round', facecolor='yellow', alpha=0.7))\n\nplt.suptitle('Signal-to-Noise Ratio Analysis for Different Amplitudes', fontsize=16, y=1.02)\nplt.tight_layout()\nplt.show()"
      ]
    },
    {
      "cell_type": "markdown",
      "metadata": {},
      "source": [
        "## Coverage test for parameter ranges\nVerify that generated parameters cover the requested ranges.\n\n"
      ]
    },
    {
      "cell_type": "code",
      "execution_count": null,
      "metadata": {
        "collapsed": false
      },
      "outputs": [],
      "source": [
        "n_samples = 100\nparam_coverage = {\n    'periods': [],\n    'amplitudes': [],\n    'peak_times': [],\n    'rise_times': [],\n}\n\n# Generate periodic lightcurves\nfor _ in range(n_samples):\n    lc = periodic_lightcurves(\n        min_period=1.0,\n        max_period=5.0,\n        min_amplitude=0.05,\n        max_amplitude=0.5\n    ).example()\n    param_coverage['periods'].append(lc.metadata['period'])\n    param_coverage['amplitudes'].append(lc.metadata['amplitude'])\n\n# Generate transient lightcurves\nfor _ in range(n_samples):\n    lc = transient_lightcurves(\n        min_peak_time=10,\n        max_peak_time=50,\n        min_rise_time=1.0,\n        max_rise_time=10.0\n    ).example()\n    param_coverage['peak_times'].append(lc.metadata['peak_time'])\n    param_coverage['rise_times'].append(lc.metadata['rise_time'])\n\nfig, axes = plt.subplots(2, 2, figsize=(12, 10))\n\n# Periods\naxes[0, 0].hist(param_coverage['periods'], bins=20, color='blue', alpha=0.7, edgecolor='black')\naxes[0, 0].axvline(1.0, color='red', linestyle='--', label='Min')\naxes[0, 0].axvline(5.0, color='red', linestyle='--', label='Max')\naxes[0, 0].set_xlabel('Period')\naxes[0, 0].set_title(f\"Period Coverage (requested: 1.0-5.0)\")\naxes[0, 0].legend()\n\n# Amplitudes\naxes[0, 1].hist(param_coverage['amplitudes'], bins=20, color='green', alpha=0.7, edgecolor='black')\naxes[0, 1].axvline(0.05, color='red', linestyle='--', label='Min')\naxes[0, 1].axvline(0.5, color='red', linestyle='--', label='Max')\naxes[0, 1].set_xlabel('Amplitude')\naxes[0, 1].set_title(f\"Amplitude Coverage (requested: 0.05-0.5)\")\naxes[0, 1].legend()\n\n# Peak times\naxes[1, 0].hist(param_coverage['peak_times'], bins=20, color='orange', alpha=0.7, edgecolor='black')\naxes[1, 0].axvline(10, color='red', linestyle='--', label='Min')\naxes[1, 0].axvline(50, color='red', linestyle='--', label='Max')\naxes[1, 0].set_xlabel('Peak Time')\naxes[1, 0].set_title(f\"Peak Time Coverage (requested: 10-50)\")\naxes[1, 0].legend()\n\n# Rise times\naxes[1, 1].hist(param_coverage['rise_times'], bins=20, color='purple', alpha=0.7, edgecolor='black')\naxes[1, 1].axvline(1.0, color='red', linestyle='--', label='Min')\naxes[1, 1].axvline(10.0, color='red', linestyle='--', label='Max')\naxes[1, 1].set_xlabel('Rise Time')\naxes[1, 1].set_title(f\"Rise Time Coverage (requested: 1.0-10.0)\")\naxes[1, 1].legend()\n\nplt.suptitle(f'Parameter Coverage Test (n={n_samples} each)', fontsize=16, y=1.02)\nplt.tight_layout()\nplt.show()"
      ]
    }
  ],
  "metadata": {
    "kernelspec": {
      "display_name": "Python 3",
      "language": "python",
      "name": "python3"
    },
    "language_info": {
      "codemirror_mode": {
        "name": "ipython",
        "version": 3
      },
      "file_extension": ".py",
      "mimetype": "text/x-python",
      "name": "python",
      "nbconvert_exporter": "python",
      "pygments_lexer": "ipython3",
      "version": "3.13.7"
    }
  },
  "nbformat": 4,
  "nbformat_minor": 0
}
