{
  "cells": [
    {
      "cell_type": "code",
      "execution_count": null,
      "metadata": {
        "collapsed": false
      },
      "outputs": [],
      "source": [
        "%matplotlib inline"
      ]
    },
    {
      "cell_type": "markdown",
      "metadata": {},
      "source": [
        "\n# Lightcurve Modifiers\n\nThis example shows how to apply various modifiers to lightcurves\nto simulate realistic observational effects.\n"
      ]
    },
    {
      "cell_type": "markdown",
      "metadata": {},
      "source": [
        "Import necessary libraries\n\n"
      ]
    },
    {
      "cell_type": "code",
      "execution_count": null,
      "metadata": {
        "collapsed": false
      },
      "outputs": [],
      "source": [
        "import matplotlib.pyplot as plt\n\nfrom hypothesis_lightcurves.generators import periodic_lightcurves\nfrom hypothesis_lightcurves.modifiers import (\n    add_gaps,\n    add_noise,\n    add_outliers,\n    add_trend,\n)\nfrom hypothesis_lightcurves.visualization import plot_lightcurve_comparison"
      ]
    },
    {
      "cell_type": "markdown",
      "metadata": {},
      "source": [
        "## Start with a clean periodic signal\n\n"
      ]
    },
    {
      "cell_type": "code",
      "execution_count": null,
      "metadata": {
        "collapsed": false
      },
      "outputs": [],
      "source": [
        "base_lc = periodic_lightcurves(\n    min_points=400,\n    max_points=400,\n    min_period=1.4,\n    max_period=1.6,\n    min_amplitude=0.09,\n    max_amplitude=0.11,\n    with_noise=False,\n).example()\n\nfig, ax = base_lc.plot(title=\"Clean Periodic Signal\")\nplt.show()"
      ]
    },
    {
      "cell_type": "markdown",
      "metadata": {},
      "source": [
        "## Add data gaps\nSimulate observational gaps in the data\n\n"
      ]
    },
    {
      "cell_type": "code",
      "execution_count": null,
      "metadata": {
        "collapsed": false
      },
      "outputs": [],
      "source": [
        "lc_with_gaps = add_gaps(base_lc, n_gaps=3, gap_fraction=0.1)\n\nfig, axes = plot_lightcurve_comparison(\n    base_lc, lc_with_gaps, label1=\"Original\", label2=\"With Gaps\", title=\"Effect of Data Gaps\"\n)\nplt.show()\n\nprint(f\"Original points: {base_lc.n_points}\")\nprint(f\"After gaps: {lc_with_gaps.n_points}\")\nprint(f\"Points removed: {base_lc.n_points - lc_with_gaps.n_points}\")"
      ]
    },
    {
      "cell_type": "markdown",
      "metadata": {},
      "source": [
        "## Add outliers\nIntroduce outlier contamination\n\n"
      ]
    },
    {
      "cell_type": "code",
      "execution_count": null,
      "metadata": {
        "collapsed": false
      },
      "outputs": [],
      "source": [
        "lc_with_outliers = add_outliers(base_lc, fraction=0.05, amplitude=5.0)\n\nfig, axes = plot_lightcurve_comparison(\n    base_lc, lc_with_outliers, label1=\"Clean\", label2=\"With Outliers\", title=\"Outlier Contamination\"\n)\nplt.show()"
      ]
    },
    {
      "cell_type": "markdown",
      "metadata": {},
      "source": [
        "## Add systematic trends\nApply linear and quadratic trends\n\n"
      ]
    },
    {
      "cell_type": "code",
      "execution_count": null,
      "metadata": {
        "collapsed": false
      },
      "outputs": [],
      "source": [
        "lc_linear = add_trend(base_lc, trend_type=\"linear\", coefficient=0.15)\nlc_quadratic = add_trend(base_lc, trend_type=\"quadratic\", coefficient=0.2)\n\nfig, axes = plt.subplots(3, 1, figsize=(12, 10), sharex=True)\n\nbase_lc.plot(ax=axes[0], title=\"Original Signal\")\nlc_linear.plot(ax=axes[1], title=\"With Linear Trend\", color=\"C1\")\nlc_quadratic.plot(ax=axes[2], title=\"With Quadratic Trend\", color=\"C2\")\n\nplt.tight_layout()\nplt.show()"
      ]
    },
    {
      "cell_type": "markdown",
      "metadata": {},
      "source": [
        "## Combine multiple effects\nCreate a realistic observational scenario\n\n"
      ]
    },
    {
      "cell_type": "code",
      "execution_count": null,
      "metadata": {
        "collapsed": false
      },
      "outputs": [],
      "source": [
        "# Start with periodic signal\nrealistic_lc = periodic_lightcurves(\n    min_points=500,\n    max_points=500,\n    min_period=0.7,\n    max_period=0.8,\n    min_amplitude=0.07,\n    max_amplitude=0.09,\n    with_noise=True,\n).example()\n\n# Apply modifications sequentially\nrealistic_lc = add_noise(realistic_lc, level=0.01)\nrealistic_lc = add_gaps(realistic_lc, n_gaps=2, gap_fraction=0.08)\nrealistic_lc = add_outliers(realistic_lc, fraction=0.02, amplitude=4)\nrealistic_lc = add_trend(realistic_lc, trend_type=\"linear\", coefficient=0.05)\n\n# Plot the result\nfig, ax = realistic_lc.plot(title=\"Realistic Observational Data\")\nax.text(\n    0.02,\n    0.98,\n    f\"Modifications: {', '.join(realistic_lc.modifications)}\",\n    transform=ax.transAxes,\n    fontsize=9,\n    va=\"top\",\n    bbox={\"boxstyle\": \"round,pad=0.3\", \"facecolor\": \"white\", \"alpha\": 0.8},\n)\nplt.show()\n\nprint(\"Applied modifications:\")\nfor mod in realistic_lc.modifications:\n    print(f\"  - {mod}\")"
      ]
    },
    {
      "cell_type": "markdown",
      "metadata": {},
      "source": [
        "## Visualize the cumulative effect\n\n"
      ]
    },
    {
      "cell_type": "code",
      "execution_count": null,
      "metadata": {
        "collapsed": false
      },
      "outputs": [],
      "source": [
        "# Create stages of modification\nstages = []\nlc = periodic_lightcurves(\n    min_points=300,\n    max_points=300,\n    min_period=0.9,\n    max_period=1.1,\n    min_amplitude=0.11,\n    max_amplitude=0.13,\n    with_noise=False,\n).example()\nstages.append((\"Original\", lc.copy()))\n\nlc = add_noise(lc, level=0.015)\nstages.append((\"+ Noise\", lc.copy()))\n\nlc = add_gaps(lc, n_gaps=2, gap_fraction=0.1)\nstages.append((\"+ Gaps\", lc.copy()))\n\nlc = add_outliers(lc, fraction=0.03, amplitude=5)\nstages.append((\"+ Outliers\", lc.copy()))\n\n# Plot all stages\nfig, axes = plt.subplots(len(stages), 1, figsize=(12, 3 * len(stages)), sharex=True)\n\nfor ax, (label, stage_lc) in zip(axes, stages, strict=False):\n    stage_lc.plot(ax=ax, title=label, markersize=3)\n\nplt.tight_layout()\nplt.show()"
      ]
    }
  ],
  "metadata": {
    "kernelspec": {
      "display_name": "Python 3",
      "language": "python",
      "name": "python3"
    },
    "language_info": {
      "codemirror_mode": {
        "name": "ipython",
        "version": 3
      },
      "file_extension": ".py",
      "mimetype": "text/x-python",
      "name": "python",
      "nbconvert_exporter": "python",
      "pygments_lexer": "ipython3",
      "version": "3.11.13"
    }
  },
  "nbformat": 4,
  "nbformat_minor": 0
}
