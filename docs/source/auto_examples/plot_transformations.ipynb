{
  "cells": [
    {
      "cell_type": "markdown",
      "metadata": {},
      "source": [
        "\n# Lightcurve Transformations\n\nThis example demonstrates various transformations that can be applied to lightcurves,\nincluding resampling, binning, gap addition, and normalization.\n"
      ]
    },
    {
      "cell_type": "code",
      "execution_count": null,
      "metadata": {
        "collapsed": false
      },
      "outputs": [],
      "source": [
        "import matplotlib.pyplot as plt\nimport numpy as np\n\nfrom hypothesis_lightcurves.generators import periodic_lightcurves, transient_lightcurves\nfrom hypothesis_lightcurves.utils import (\n    add_gaps,\n    bin_lightcurve,\n    calculate_periodogram,\n    resample_lightcurve,\n)\nfrom hypothesis_lightcurves.visualization import plot_lightcurve"
      ]
    },
    {
      "cell_type": "markdown",
      "metadata": {},
      "source": [
        "## Resampling demonstration\nShow how resampling affects lightcurve resolution.\n\n"
      ]
    },
    {
      "cell_type": "code",
      "execution_count": null,
      "metadata": {
        "collapsed": false
      },
      "outputs": [],
      "source": [
        "np.random.seed(42)\noriginal = periodic_lightcurves(\n    min_points=500,\n    max_points=500,\n    min_period=2.5,\n    max_period=2.5,\n    with_noise=True\n).example()\n\nfig, axes = plt.subplots(3, 1, figsize=(12, 10), sharex=True)\n\n# Original\nplot_lightcurve(original, ax=axes[0], title=f\"Original ({original.n_points} points)\",\n                color='navy', marker='.', markersize=2, linestyle='-', linewidth=0.5)\n\n# Downsampled\ndownsampled = resample_lightcurve(original, n_points=50)\nplot_lightcurve(downsampled, ax=axes[1], title=f\"Downsampled ({downsampled.n_points} points)\",\n                color='darkgreen', marker='o', markersize=5, linestyle='-', linewidth=1)\n\n# Upsampled\nupsampled = resample_lightcurve(original, n_points=1000)\nplot_lightcurve(upsampled, ax=axes[2], title=f\"Upsampled ({upsampled.n_points} points)\",\n                color='darkred', marker='', linestyle='-', linewidth=1)\n\nplt.suptitle('Effect of Resampling on Lightcurves', fontsize=16, y=1.01)\nplt.tight_layout()\nplt.show()"
      ]
    },
    {
      "cell_type": "markdown",
      "metadata": {},
      "source": [
        "## Binning for noise reduction\nDemonstrate how binning can reduce noise in lightcurves.\n\n"
      ]
    },
    {
      "cell_type": "code",
      "execution_count": null,
      "metadata": {
        "collapsed": false
      },
      "outputs": [],
      "source": [
        "# Generate noisy periodic lightcurve\nnoisy_lc = periodic_lightcurves(\n    min_points=1000,\n    max_points=1000,\n    min_period=3.0,\n    max_period=3.0,\n    min_amplitude=0.1,\n    max_amplitude=0.1,\n    with_noise=True\n).example()\n\nfig, axes = plt.subplots(3, 1, figsize=(12, 10), sharex=True)\n\n# Original noisy data\nplot_lightcurve(noisy_lc, ax=axes[0], title=f\"Original Noisy Data ({noisy_lc.n_points} points)\",\n                color='gray', marker='.', markersize=1, linestyle='', alpha=0.5)\n\n# Small bins\nbinned_small = bin_lightcurve(noisy_lc, bin_size=0.5)\nplot_lightcurve(binned_small, ax=axes[1], \n                title=f\"Small Bins (size=0.5, {binned_small.n_points} bins)\",\n                color='blue', marker='o', markersize=4, linestyle='-', linewidth=1)\n\n# Large bins\nbinned_large = bin_lightcurve(noisy_lc, bin_size=2.0)\nplot_lightcurve(binned_large, ax=axes[2], \n                title=f\"Large Bins (size=2.0, {binned_large.n_points} bins)\",\n                color='red', marker='s', markersize=6, linestyle='-', linewidth=2)\n\nplt.suptitle('Binning for Noise Reduction', fontsize=16, y=1.01)\nplt.tight_layout()\nplt.show()"
      ]
    },
    {
      "cell_type": "markdown",
      "metadata": {},
      "source": [
        "## Adding observational gaps\nSimulate realistic observational gaps in the data.\n\n"
      ]
    },
    {
      "cell_type": "code",
      "execution_count": null,
      "metadata": {
        "collapsed": false
      },
      "outputs": [],
      "source": [
        "# Generate continuous lightcurve\ncontinuous = transient_lightcurves(\n    min_points=300,\n    max_points=300,\n    min_peak_time=30,\n    max_peak_time=30\n).example()\n\nfig, axes = plt.subplots(2, 2, figsize=(14, 10))\n\n# Original continuous\nplot_lightcurve(continuous, ax=axes[0, 0], \n                title=f\"Original Continuous ({continuous.n_points} points)\",\n                color='black', marker='.', markersize=2)\n\n# Single gap\nsingle_gap = add_gaps(continuous, n_gaps=1, gap_fraction=0.15, seed=42)\nplot_lightcurve(single_gap, ax=axes[0, 1],\n                title=f\"Single Gap (15% removed, {single_gap.n_points} points)\",\n                color='blue', marker='.', markersize=3)\n\n# Multiple small gaps\nmulti_small = add_gaps(continuous, n_gaps=3, gap_fraction=0.2, seed=43)\nplot_lightcurve(multi_small, ax=axes[1, 0],\n                title=f\"3 Small Gaps (20% removed, {multi_small.n_points} points)\",\n                color='green', marker='.', markersize=3)\n\n# Many gaps (heavily sampled)\nmany_gaps = add_gaps(continuous, n_gaps=5, gap_fraction=0.4, seed=44)\nplot_lightcurve(many_gaps, ax=axes[1, 1],\n                title=f\"5 Gaps (40% removed, {many_gaps.n_points} points)\",\n                color='red', marker='.', markersize=3)\n\nplt.suptitle('Effect of Observational Gaps', fontsize=16, y=1.01)\nplt.tight_layout()\nplt.show()"
      ]
    },
    {
      "cell_type": "markdown",
      "metadata": {},
      "source": [
        "## Normalization comparison\nShow the effect of normalization on different lightcurves.\n\n"
      ]
    },
    {
      "cell_type": "code",
      "execution_count": null,
      "metadata": {
        "collapsed": false
      },
      "outputs": [],
      "source": [
        "fig, axes = plt.subplots(3, 2, figsize=(14, 10))\n\n# Generate lightcurves with different characteristics\nlc_types = [\n    ('Low baseline', periodic_lightcurves(\n        min_points=200, max_points=200,\n        min_period=2.0, max_period=2.0\n    ).example()),\n    ('High baseline', periodic_lightcurves(\n        min_points=200, max_points=200,\n        min_period=2.0, max_period=2.0\n    ).example()),\n    ('Transient', transient_lightcurves(\n        min_points=200, max_points=200\n    ).example())\n]\n\n# Scale the high baseline\nlc_types[1] = (lc_types[1][0], lc_types[1][1])\nlc_types[1][1].flux = lc_types[1][1].flux + 1000\n\nfor i, (name, lc) in enumerate(lc_types):\n    # Original\n    plot_lightcurve(lc, ax=axes[i, 0], title=f\"{name} - Original\",\n                    color=f'C{i}', marker='', linewidth=1.5)\n    axes[i, 0].text(0.02, 0.98, f\"Mean: {lc.mean_flux:.1f}\\nStd: {lc.std_flux:.1f}\",\n                    transform=axes[i, 0].transAxes, fontsize=10,\n                    verticalalignment='top',\n                    bbox=dict(boxstyle='round', facecolor='white', alpha=0.8))\n    \n    # Normalized\n    normalized = lc.normalize()\n    plot_lightcurve(normalized, ax=axes[i, 1], title=f\"{name} - Normalized\",\n                    color=f'C{i}', marker='', linewidth=1.5)\n    axes[i, 1].text(0.02, 0.98, f\"Mean: {normalized.mean_flux:.1e}\\nStd: {normalized.std_flux:.3f}\",\n                    transform=axes[i, 1].transAxes, fontsize=10,\n                    verticalalignment='top',\n                    bbox=dict(boxstyle='round', facecolor='white', alpha=0.8))\n    axes[i, 1].axhline(0, color='gray', linestyle='--', alpha=0.5)\n\nplt.suptitle('Normalization of Different Lightcurve Types', fontsize=16, y=1.01)\nplt.tight_layout()\nplt.show()"
      ]
    },
    {
      "cell_type": "markdown",
      "metadata": {},
      "source": [
        "## Combined transformations\nApply multiple transformations to show cumulative effects.\n\n"
      ]
    },
    {
      "cell_type": "code",
      "execution_count": null,
      "metadata": {
        "collapsed": false
      },
      "outputs": [],
      "source": [
        "# Start with a high-resolution periodic lightcurve\noriginal_combined = periodic_lightcurves(\n    min_points=1000,\n    max_points=1000,\n    min_period=2.0,\n    max_period=2.0,\n    min_amplitude=0.15,\n    max_amplitude=0.15,\n    with_noise=True\n).example()\n\nfig, axes = plt.subplots(5, 1, figsize=(12, 14), sharex=True)\n\n# Step 1: Original\nplot_lightcurve(original_combined, ax=axes[0], \n                title=f\"1. Original ({original_combined.n_points} points)\",\n                color='black', marker='', linewidth=0.5, alpha=0.7)\n\n# Step 2: Add gaps\nwith_gaps = add_gaps(original_combined, n_gaps=2, gap_fraction=0.2, seed=50)\nplot_lightcurve(with_gaps, ax=axes[1],\n                title=f\"2. With Gaps ({with_gaps.n_points} points, 20% removed)\",\n                color='blue', marker='.', markersize=2, linestyle='')\n\n# Step 3: Bin the gapped data\nbinned = bin_lightcurve(with_gaps, bin_size=1.0)\nplot_lightcurve(binned, ax=axes[2],\n                title=f\"3. Binned (bin_size=1.0, {binned.n_points} bins)\",\n                color='green', marker='o', markersize=5, linestyle='-', linewidth=1.5)\n\n# Step 4: Resample to regular grid\nresampled = resample_lightcurve(binned, n_points=100)\nplot_lightcurve(resampled, ax=axes[3],\n                title=f\"4. Resampled ({resampled.n_points} points)\",\n                color='orange', marker='s', markersize=4, linestyle='-', linewidth=1)\n\n# Step 5: Normalize\nnormalized_final = resampled.normalize()\nplot_lightcurve(normalized_final, ax=axes[4],\n                title=f\"5. Normalized (mean\u22480, std\u22481)\",\n                color='red', marker='', linestyle='-', linewidth=2)\naxes[4].axhline(0, color='gray', linestyle='--', alpha=0.5)\n\nplt.suptitle('Sequential Transformations Pipeline', fontsize=16, y=1.01)\nplt.tight_layout()\nplt.show()"
      ]
    },
    {
      "cell_type": "markdown",
      "metadata": {},
      "source": [
        "## Effect on periodogram\nShow how transformations affect period detection.\n\n"
      ]
    },
    {
      "cell_type": "code",
      "execution_count": null,
      "metadata": {
        "collapsed": false
      },
      "outputs": [],
      "source": [
        "# Generate a periodic signal\nlc_period = periodic_lightcurves(\n    min_points=500,\n    max_points=500,\n    min_period=3.14159,  # Use pi for easy recognition\n    max_period=3.14159,\n    min_amplitude=0.2,\n    max_amplitude=0.2,\n    with_noise=True\n).example()\n\n# Apply transformations\nlc_gapped = add_gaps(lc_period, n_gaps=3, gap_fraction=0.3, seed=60)\nlc_binned = bin_lightcurve(lc_period, bin_size=0.5)\n\n# Calculate periodograms\ntest_periods = np.linspace(1.0, 6.0, 1000)\n_, power_original = calculate_periodogram(lc_period, test_periods)\n_, power_gapped = calculate_periodogram(lc_gapped, test_periods)\n_, power_binned = calculate_periodogram(lc_binned, test_periods)\n\nfig, axes = plt.subplots(3, 2, figsize=(14, 10))\n\n# Original\nplot_lightcurve(lc_period, ax=axes[0, 0], title=\"Original Lightcurve\",\n                color='navy', marker='', linewidth=0.5)\naxes[0, 1].plot(test_periods, power_original, 'navy', linewidth=1.5)\naxes[0, 1].axvline(3.14159, color='red', linestyle='--', alpha=0.5, label='True Period')\naxes[0, 1].set_title('Original Periodogram')\naxes[0, 1].legend()\n\n# With gaps\nplot_lightcurve(lc_gapped, ax=axes[1, 0], title=\"With Gaps (30% removed)\",\n                color='green', marker='.', markersize=2, linestyle='')\naxes[1, 1].plot(test_periods, power_gapped, 'green', linewidth=1.5)\naxes[1, 1].axvline(3.14159, color='red', linestyle='--', alpha=0.5, label='True Period')\naxes[1, 1].set_title('Periodogram with Gaps')\naxes[1, 1].legend()\n\n# Binned\nplot_lightcurve(lc_binned, ax=axes[2, 0], title=\"Binned (size=0.5)\",\n                color='orange', marker='o', markersize=4, linestyle='-')\naxes[2, 1].plot(test_periods, power_binned, 'orange', linewidth=1.5)\naxes[2, 1].axvline(3.14159, color='red', linestyle='--', alpha=0.5, label='True Period')\naxes[2, 1].set_title('Binned Periodogram')\naxes[2, 1].legend()\n\n# Format periodogram axes\nfor i in range(3):\n    axes[i, 1].set_ylabel('Power')\n    axes[i, 1].grid(True, alpha=0.3)\naxes[2, 1].set_xlabel('Period')\n\nplt.suptitle('Impact of Transformations on Period Detection', fontsize=16, y=1.01)\nplt.tight_layout()\nplt.show()"
      ]
    }
  ],
  "metadata": {
    "kernelspec": {
      "display_name": "Python 3",
      "language": "python",
      "name": "python3"
    },
    "language_info": {
      "codemirror_mode": {
        "name": "ipython",
        "version": 3
      },
      "file_extension": ".py",
      "mimetype": "text/x-python",
      "name": "python",
      "nbconvert_exporter": "python",
      "pygments_lexer": "ipython3",
      "version": "3.13.7"
    }
  },
  "nbformat": 4,
  "nbformat_minor": 0
}
