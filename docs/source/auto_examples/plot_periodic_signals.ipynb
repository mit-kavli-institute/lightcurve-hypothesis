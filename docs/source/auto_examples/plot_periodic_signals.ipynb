{
  "cells": [
    {
      "cell_type": "markdown",
      "metadata": {},
      "source": [
        "\n# Periodic Lightcurve Examples\n\nThis example demonstrates the generation and visualization of periodic lightcurves,\nwhich are useful for testing algorithms that detect periodic signals in astronomical data.\n"
      ]
    },
    {
      "cell_type": "code",
      "execution_count": null,
      "metadata": {
        "collapsed": false
      },
      "outputs": [],
      "source": [
        "import matplotlib.pyplot as plt\nimport numpy as np\nfrom hypothesis_lightcurves.generators import periodic_lightcurves\nfrom hypothesis_lightcurves.utils import calculate_periodogram\nfrom hypothesis_lightcurves.visualization import (\n    create_gallery_plot,\n    plot_lightcurve,\n    plot_phase_folded,\n    plot_with_annotations,\n)"
      ]
    },
    {
      "cell_type": "markdown",
      "metadata": {},
      "source": [
        "## Simple periodic lightcurve\nGenerate a periodic lightcurve with known period and amplitude.\n\n"
      ]
    },
    {
      "cell_type": "code",
      "execution_count": null,
      "metadata": {
        "collapsed": false
      },
      "outputs": [],
      "source": [
        "np.random.seed(42)\nlc = periodic_lightcurves(\n    min_period=2.5,\n    max_period=2.5,  # Fixed period for demonstration\n    min_amplitude=0.1,\n    max_amplitude=0.2,\n    with_noise=False,\n).example()\n\nfig, ax = plt.subplots(figsize=(12, 6))\nplot_with_annotations(lc, ax=ax, color=\"darkblue\", marker=\"\", linewidth=2)\nax.set_title(f\"Periodic Lightcurve (P={lc.metadata['period']:.2f})\", fontsize=14)\nplt.show()"
      ]
    },
    {
      "cell_type": "markdown",
      "metadata": {},
      "source": [
        "## Effect of noise on periodic signals\nCompare clean and noisy periodic signals.\n\n"
      ]
    },
    {
      "cell_type": "code",
      "execution_count": null,
      "metadata": {
        "collapsed": false
      },
      "outputs": [],
      "source": [
        "fig, axes = plt.subplots(2, 1, figsize=(12, 8), sharex=True)\n\n# Clean signal\nlc_clean = periodic_lightcurves(\n    min_period=3.0,\n    max_period=3.0,\n    min_amplitude=0.15,\n    max_amplitude=0.15,\n    with_noise=False,\n    min_points=200,\n    max_points=200,\n).example()\n\nplot_lightcurve(\n    lc_clean, ax=axes[0], title=\"Clean Periodic Signal\", color=\"navy\", marker=\"\", linewidth=2\n)\n\n# Noisy signal with same parameters\nnp.random.seed(42)  # Same seed for consistent period/amplitude\nlc_noisy = periodic_lightcurves(\n    min_period=3.0,\n    max_period=3.0,\n    min_amplitude=0.15,\n    max_amplitude=0.15,\n    with_noise=True,\n    min_points=200,\n    max_points=200,\n).example()\n\nplot_lightcurve(\n    lc_noisy,\n    ax=axes[1],\n    title=\"Noisy Periodic Signal\",\n    color=\"darkred\",\n    marker=\".\",\n    markersize=3,\n    linestyle=\"\",\n)\n\nplt.suptitle(\"Impact of Noise on Periodic Signals\", fontsize=16, y=1.01)\nplt.tight_layout()\nplt.show()"
      ]
    },
    {
      "cell_type": "markdown",
      "metadata": {},
      "source": [
        "## Different periods and amplitudes\nShowcase various combinations of periods and amplitudes.\n\n"
      ]
    },
    {
      "cell_type": "code",
      "execution_count": null,
      "metadata": {
        "collapsed": false
      },
      "outputs": [],
      "source": [
        "fig, axes = plt.subplots(3, 2, figsize=(12, 12))\n\nparams = [\n    (0.5, 0.05, \"Short period, small amplitude\"),\n    (0.5, 0.3, \"Short period, large amplitude\"),\n    (2.0, 0.05, \"Medium period, small amplitude\"),\n    (2.0, 0.3, \"Medium period, large amplitude\"),\n    (5.0, 0.05, \"Long period, small amplitude\"),\n    (5.0, 0.3, \"Long period, large amplitude\"),\n]\n\nfor idx, (period, amplitude, title) in enumerate(params):\n    row = idx // 2\n    col = idx % 2\n\n    lc = periodic_lightcurves(\n        min_period=period,\n        max_period=period,\n        min_amplitude=amplitude,\n        max_amplitude=amplitude,\n        with_noise=False,\n        min_points=300,\n        max_points=300,\n    ).example()\n\n    plot_lightcurve(lc, ax=axes[row, col], title=title, color=f\"C{idx}\", marker=\"\", linewidth=1.5)\n    axes[row, col].set_ylim(lc.mean_flux - amplitude * 2, lc.mean_flux + amplitude * 2)\n\nplt.suptitle(\"Periodic Signals with Various Parameters\", fontsize=16, y=1.01)\nplt.tight_layout()\nplt.show()"
      ]
    },
    {
      "cell_type": "markdown",
      "metadata": {},
      "source": [
        "## Phase-folded lightcurve\nDemonstrate phase-folding to reveal the periodic pattern.\n\n"
      ]
    },
    {
      "cell_type": "code",
      "execution_count": null,
      "metadata": {
        "collapsed": false
      },
      "outputs": [],
      "source": [
        "lc_fold = periodic_lightcurves(\n    min_period=1.7,\n    max_period=1.7,\n    min_amplitude=0.2,\n    max_amplitude=0.2,\n    with_noise=True,\n    min_points=500,\n    max_points=500,\n).example()\n\nfig, axes = plt.subplots(1, 2, figsize=(14, 6))\n\n# Original lightcurve\nplot_lightcurve(\n    lc_fold,\n    ax=axes[0],\n    title=\"Original Lightcurve\",\n    color=\"darkgreen\",\n    marker=\".\",\n    markersize=2,\n    linestyle=\"\",\n)\n\n# Phase-folded\ntrue_period = lc_fold.metadata[\"period\"]\nplot_phase_folded(lc_fold, period=true_period, ax=axes[1])\naxes[1].set_title(f\"Phase-folded at True Period (P={true_period:.3f})\")\n\nplt.tight_layout()\nplt.show()"
      ]
    },
    {
      "cell_type": "markdown",
      "metadata": {},
      "source": [
        "## Periodogram analysis\nShow how periodogram can recover the true period.\n\n"
      ]
    },
    {
      "cell_type": "code",
      "execution_count": null,
      "metadata": {
        "collapsed": false
      },
      "outputs": [],
      "source": [
        "lc_periodogram = periodic_lightcurves(\n    min_period=2.3,\n    max_period=2.3,\n    min_amplitude=0.15,\n    max_amplitude=0.15,\n    with_noise=True,\n    min_points=200,\n    max_points=200,\n).example()\n\n# Calculate periodogram\ntest_periods = np.linspace(0.5, 5.0, 1000)\nperiods, power = calculate_periodogram(lc_periodogram, test_periods)\n\nfig, axes = plt.subplots(2, 1, figsize=(12, 10))\n\n# Lightcurve\nplot_lightcurve(\n    lc_periodogram,\n    ax=axes[0],\n    title=\"Periodic Lightcurve for Analysis\",\n    color=\"purple\",\n    marker=\".\",\n    markersize=3,\n    linestyle=\"-\",\n    linewidth=0.5,\n)\n\n# Periodogram\naxes[1].plot(periods, power, \"b-\", linewidth=1.5)\ntrue_period = lc_periodogram.metadata[\"period\"]\naxes[1].axvline(true_period, color=\"red\", linestyle=\"--\", label=f\"True Period = {true_period:.3f}\")\ndetected_period = periods[np.argmax(power)]\naxes[1].axvline(\n    detected_period, color=\"green\", linestyle=\"--\", label=f\"Detected Period = {detected_period:.3f}\"\n)\naxes[1].set_xlabel(\"Period\", fontsize=12)\naxes[1].set_ylabel(\"Power\", fontsize=12)\naxes[1].set_title(\"Periodogram Analysis\", fontsize=14)\naxes[1].legend()\naxes[1].grid(True, alpha=0.3)\n\nplt.tight_layout()\nplt.show()"
      ]
    },
    {
      "cell_type": "markdown",
      "metadata": {},
      "source": [
        "## Gallery of periodic lightcurves\nShow diversity of periodic lightcurves that can be generated.\n\n"
      ]
    },
    {
      "cell_type": "code",
      "execution_count": null,
      "metadata": {
        "collapsed": false
      },
      "outputs": [],
      "source": [
        "fig = create_gallery_plot(\n    n_examples=9,\n    generator_func=periodic_lightcurves,\n    title=\"Gallery of Periodic Lightcurves\",\n    figsize=(15, 10),\n    seed=456,\n    min_period=0.5,\n    max_period=5.0,\n    with_noise=True,\n)\nplt.show()"
      ]
    },
    {
      "cell_type": "markdown",
      "metadata": {},
      "source": [
        "## Multi-period comparison\nCompare lightcurves with different periods side by side.\n\n"
      ]
    },
    {
      "cell_type": "code",
      "execution_count": null,
      "metadata": {
        "collapsed": false
      },
      "outputs": [],
      "source": [
        "periods_to_compare = [0.5, 1.0, 2.0, 4.0]\nfig, axes = plt.subplots(len(periods_to_compare), 1, figsize=(12, 10), sharex=True)\n\nfor i, period in enumerate(periods_to_compare):\n    lc = periodic_lightcurves(\n        min_period=period,\n        max_period=period,\n        min_amplitude=0.1,\n        max_amplitude=0.1,\n        with_noise=False,\n        min_points=500,\n        max_points=500,\n    ).example()\n\n    plot_lightcurve(lc, ax=axes[i], color=f\"C{i}\", marker=\"\", linewidth=1.5)\n    axes[i].set_title(f\"Period = {period:.1f}\", fontsize=12)\n    axes[i].set_ylabel(\"Flux\", fontsize=10)\n\naxes[-1].set_xlabel(\"Time\", fontsize=12)\nplt.suptitle(\"Comparison of Different Periods\", fontsize=16, y=1.01)\nplt.tight_layout()\nplt.show()"
      ]
    }
  ],
  "metadata": {
    "kernelspec": {
      "display_name": "Python 3",
      "language": "python",
      "name": "python3"
    },
    "language_info": {
      "codemirror_mode": {
        "name": "ipython",
        "version": 3
      },
      "file_extension": ".py",
      "mimetype": "text/x-python",
      "name": "python",
      "nbconvert_exporter": "python",
      "pygments_lexer": "ipython3",
      "version": "3.11.13"
    }
  },
  "nbformat": 4,
  "nbformat_minor": 0
}
