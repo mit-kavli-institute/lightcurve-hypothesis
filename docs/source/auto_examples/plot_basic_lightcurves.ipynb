{
  "cells": [
    {
      "cell_type": "markdown",
      "metadata": {},
      "source": [
        "\n# Basic Lightcurve Examples\n\nThis example demonstrates the generation and visualization of basic random lightcurves\nusing the hypothesis_lightcurves package.\n"
      ]
    },
    {
      "cell_type": "code",
      "execution_count": null,
      "metadata": {
        "collapsed": false
      },
      "outputs": [],
      "source": [
        "import matplotlib.pyplot as plt\nimport numpy as np\n\nfrom hypothesis_lightcurves.generators import lightcurves\nfrom hypothesis_lightcurves.visualization import (\n    create_gallery_plot,\n    plot_lightcurve,\n    plot_with_annotations,\n)"
      ]
    },
    {
      "cell_type": "markdown",
      "metadata": {},
      "source": [
        "## Generate a single random lightcurve\nLet's start by generating and plotting a single random lightcurve.\n\n"
      ]
    },
    {
      "cell_type": "code",
      "execution_count": null,
      "metadata": {
        "collapsed": false
      },
      "outputs": [],
      "source": [
        "np.random.seed(42)\nlc = lightcurves(min_points=100, max_points=200).example()\n\nfig, ax = plt.subplots(figsize=(10, 6))\nplot_lightcurve(lc, ax=ax, title=\"Random Lightcurve Example\", color='navy')\nplt.show()"
      ]
    },
    {
      "cell_type": "markdown",
      "metadata": {},
      "source": [
        "## Generate lightcurves with different parameters\nWe can control various parameters when generating lightcurves.\n\n"
      ]
    },
    {
      "cell_type": "code",
      "execution_count": null,
      "metadata": {
        "collapsed": false
      },
      "outputs": [],
      "source": [
        "fig, axes = plt.subplots(2, 2, figsize=(12, 10))\n\n# Sparse lightcurve\nlc_sparse = lightcurves(min_points=20, max_points=30).example()\nplot_lightcurve(lc_sparse, ax=axes[0, 0], title=\"Sparse Sampling\", marker='o', markersize=6)\n\n# Dense lightcurve\nlc_dense = lightcurves(min_points=500, max_points=1000).example()\nplot_lightcurve(lc_dense, ax=axes[0, 1], title=\"Dense Sampling\", marker='', linestyle='-')\n\n# High flux range\nlc_bright = lightcurves(min_flux=1000, max_flux=10000).example()\nplot_lightcurve(lc_bright, ax=axes[1, 0], title=\"High Flux Range\", color='orange')\n\n# With errors\nlc_errors = lightcurves(with_errors=True).example()\nplot_lightcurve(lc_errors, ax=axes[1, 1], title=\"With Measurement Errors\", color='green')\n\nplt.tight_layout()\nplt.show()"
      ]
    },
    {
      "cell_type": "markdown",
      "metadata": {},
      "source": [
        "## Lightcurve with annotations\nWe can add statistical annotations to better understand the lightcurve properties.\n\n"
      ]
    },
    {
      "cell_type": "code",
      "execution_count": null,
      "metadata": {
        "collapsed": false
      },
      "outputs": [],
      "source": [
        "lc_annotated = lightcurves(min_points=150, max_points=200, with_errors=True).example()\n\nfig, ax = plt.subplots(figsize=(12, 7))\nplot_with_annotations(\n    lc_annotated,\n    ax=ax,\n    annotate_statistics=True,\n    color='purple',\n    alpha=0.7\n)\nax.set_title(\"Annotated Lightcurve with Statistics\", fontsize=14)\nplt.show()"
      ]
    },
    {
      "cell_type": "markdown",
      "metadata": {},
      "source": [
        "## Gallery of random lightcurves\nLet's create a gallery showing the diversity of generated lightcurves.\n\n"
      ]
    },
    {
      "cell_type": "code",
      "execution_count": null,
      "metadata": {
        "collapsed": false
      },
      "outputs": [],
      "source": [
        "fig = create_gallery_plot(\n    n_examples=9,\n    generator_func=lightcurves,\n    title=\"Gallery of Random Lightcurves\",\n    figsize=(15, 10),\n    seed=123,\n    min_points=50,\n    max_points=300\n)\nplt.show()"
      ]
    },
    {
      "cell_type": "markdown",
      "metadata": {},
      "source": [
        "## Comparing different flux distributions\nWe can generate lightcurves with different flux characteristics.\n\n"
      ]
    },
    {
      "cell_type": "code",
      "execution_count": null,
      "metadata": {
        "collapsed": false
      },
      "outputs": [],
      "source": [
        "fig, axes = plt.subplots(1, 3, figsize=(15, 5))\n\n# Low baseline\nlc_low = lightcurves(min_flux=0, max_flux=100).example()\nplot_lightcurve(lc_low, ax=axes[0], title=\"Low Flux (0-100)\", color='blue')\naxes[0].set_ylim(-10, 110)\n\n# Medium baseline\nlc_med = lightcurves(min_flux=900, max_flux=1100).example()\nplot_lightcurve(lc_med, ax=axes[1], title=\"Medium Flux (900-1100)\", color='green')\naxes[1].set_ylim(850, 1150)\n\n# High baseline\nlc_high = lightcurves(min_flux=9000, max_flux=11000).example()\nplot_lightcurve(lc_high, ax=axes[2], title=\"High Flux (9000-11000)\", color='red')\naxes[2].set_ylim(8500, 11500)\n\nplt.suptitle(\"Lightcurves with Different Flux Baselines\", fontsize=16, y=1.02)\nplt.tight_layout()\nplt.show()"
      ]
    }
  ],
  "metadata": {
    "kernelspec": {
      "display_name": "Python 3",
      "language": "python",
      "name": "python3"
    },
    "language_info": {
      "codemirror_mode": {
        "name": "ipython",
        "version": 3
      },
      "file_extension": ".py",
      "mimetype": "text/x-python",
      "name": "python",
      "nbconvert_exporter": "python",
      "pygments_lexer": "ipython3",
      "version": "3.13.7"
    }
  },
  "nbformat": 4,
  "nbformat_minor": 0
}
