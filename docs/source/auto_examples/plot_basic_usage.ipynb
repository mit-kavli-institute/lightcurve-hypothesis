{
  "cells": [
    {
      "cell_type": "code",
      "execution_count": null,
      "metadata": {
        "collapsed": false
      },
      "outputs": [],
      "source": [
        "%matplotlib inline"
      ]
    },
    {
      "cell_type": "markdown",
      "metadata": {},
      "source": [
        "\n# Basic Lightcurve Generation\n\nThis example demonstrates the basic usage of hypothesis-lightcurves\nto generate and visualize synthetic lightcurves.\n"
      ]
    },
    {
      "cell_type": "markdown",
      "metadata": {},
      "source": [
        "Import necessary libraries\n\n"
      ]
    },
    {
      "cell_type": "code",
      "execution_count": null,
      "metadata": {
        "collapsed": false
      },
      "outputs": [],
      "source": [
        "import matplotlib.pyplot as plt\n\nfrom hypothesis_lightcurves.generators import lightcurves, periodic_lightcurves\nfrom hypothesis_lightcurves.modifiers import add_noise"
      ]
    },
    {
      "cell_type": "markdown",
      "metadata": {},
      "source": [
        "## Generate a basic lightcurve\nCreate a simple random lightcurve using the basic generator\n\n"
      ]
    },
    {
      "cell_type": "code",
      "execution_count": null,
      "metadata": {
        "collapsed": false
      },
      "outputs": [],
      "source": [
        "lc = lightcurves(min_points=200, max_points=200).example()\nprint(f\"Generated lightcurve with {lc.n_points} points\")\nprint(f\"Duration: {lc.duration:.2f}\")\nprint(f\"Mean flux: {lc.mean_flux:.2f}\")\nprint(f\"Std flux: {lc.std_flux:.2f}\")"
      ]
    },
    {
      "cell_type": "markdown",
      "metadata": {},
      "source": [
        "Plot the basic lightcurve\n\n"
      ]
    },
    {
      "cell_type": "code",
      "execution_count": null,
      "metadata": {
        "collapsed": false
      },
      "outputs": [],
      "source": [
        "fig, ax = lc.plot(title=\"Basic Random Lightcurve\")\nplt.show()"
      ]
    },
    {
      "cell_type": "markdown",
      "metadata": {},
      "source": [
        "## Generate a periodic lightcurve\nCreate a lightcurve with a known period and amplitude\n\n"
      ]
    },
    {
      "cell_type": "code",
      "execution_count": null,
      "metadata": {
        "collapsed": false
      },
      "outputs": [],
      "source": [
        "periodic_lc = periodic_lightcurves(\n    min_points=300,\n    max_points=300,\n    min_period=2.4,\n    max_period=2.6,\n    min_amplitude=0.14,\n    max_amplitude=0.16,\n    with_noise=False,\n).example()\n\nfig, ax = periodic_lc.plot(title=\"Periodic Lightcurve (P=2.5)\")\nplt.show()"
      ]
    },
    {
      "cell_type": "markdown",
      "metadata": {},
      "source": [
        "## Add realistic noise\nApply noise to make the lightcurve more realistic\n\n"
      ]
    },
    {
      "cell_type": "code",
      "execution_count": null,
      "metadata": {
        "collapsed": false
      },
      "outputs": [],
      "source": [
        "noisy_lc = add_noise(periodic_lc, level=0.02)\n\n# Plot both for comparison\nfig, (ax1, ax2) = plt.subplots(2, 1, figsize=(10, 8), sharex=True)\n\nperiodic_lc.plot(ax=ax1, title=\"Original Periodic Signal\")\nnoisy_lc.plot(ax=ax2, title=\"With Added Noise\")\n\nplt.tight_layout()\nplt.show()"
      ]
    },
    {
      "cell_type": "markdown",
      "metadata": {},
      "source": [
        "## Generate lightcurve with errors\nCreate a lightcurve that includes measurement uncertainties\n\n"
      ]
    },
    {
      "cell_type": "code",
      "execution_count": null,
      "metadata": {
        "collapsed": false
      },
      "outputs": [],
      "source": [
        "lc_with_errors = lightcurves(min_points=150, max_points=150, with_errors=True).example()\n\nfig, ax = lc_with_errors.plot(title=\"Lightcurve with Measurement Errors\", show_errors=True)\nplt.show()"
      ]
    },
    {
      "cell_type": "markdown",
      "metadata": {},
      "source": [
        "## Normalized lightcurve\nNormalize a lightcurve to zero mean and unit variance\n\n"
      ]
    },
    {
      "cell_type": "code",
      "execution_count": null,
      "metadata": {
        "collapsed": false
      },
      "outputs": [],
      "source": [
        "original = periodic_lightcurves(min_amplitude=0.4, max_amplitude=0.6, with_noise=False).example()\nnormalized = original.normalize()\n\nfig, (ax1, ax2) = plt.subplots(1, 2, figsize=(12, 5))\n\noriginal.plot(ax=ax1, title=f\"Original (mean={original.mean_flux:.1f})\")\nnormalized.plot(ax=ax2, title=f\"Normalized (mean={normalized.mean_flux:.1e})\")\n\nplt.tight_layout()\nplt.show()\n\nprint(f\"Original: mean={original.mean_flux:.2f}, std={original.std_flux:.2f}\")\nprint(f\"Normalized: mean={normalized.mean_flux:.2e}, std={normalized.std_flux:.2f}\")"
      ]
    }
  ],
  "metadata": {
    "kernelspec": {
      "display_name": "Python 3",
      "language": "python",
      "name": "python3"
    },
    "language_info": {
      "codemirror_mode": {
        "name": "ipython",
        "version": 3
      },
      "file_extension": ".py",
      "mimetype": "text/x-python",
      "name": "python",
      "nbconvert_exporter": "python",
      "pygments_lexer": "ipython3",
      "version": "3.11.13"
    }
  },
  "nbformat": 4,
  "nbformat_minor": 0
}
